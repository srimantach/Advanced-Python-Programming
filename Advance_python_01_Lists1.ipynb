{
  "nbformat": 4,
  "nbformat_minor": 0,
  "metadata": {
    "colab": {
      "name": "Advance_python_01_Lists1.ipynb",
      "provenance": [],
      "collapsed_sections": [],
      "authorship_tag": "ABX9TyMqvxXxHSiJxq3jA1iYWVi0",
      "include_colab_link": true
    },
    "kernelspec": {
      "name": "python3",
      "display_name": "Python 3"
    },
    "language_info": {
      "name": "python"
    }
  },
  "cells": [
    {
      "cell_type": "markdown",
      "metadata": {
        "id": "view-in-github",
        "colab_type": "text"
      },
      "source": [
        "<a href=\"https://colab.research.google.com/github/srimantach/Advanced-Python-Programming/blob/main/Advance_python_01_Lists1.ipynb\" target=\"_parent\"><img src=\"https://colab.research.google.com/assets/colab-badge.svg\" alt=\"Open In Colab\"/></a>"
      ]
    },
    {
      "cell_type": "code",
      "execution_count": 1,
      "metadata": {
        "colab": {
          "base_uri": "https://localhost:8080/"
        },
        "id": "LzdBwpOzFj15",
        "outputId": "2b7573ae-c67d-44a3-c1bc-5d31e533b584"
      },
      "outputs": [
        {
          "output_type": "stream",
          "name": "stdout",
          "text": [
            "<class 'list'>\n",
            "[]\n",
            "[]\n"
          ]
        }
      ],
      "source": [
        "##Chapter - Advance Python\n",
        "\n",
        "#Name - Lists\n",
        "\n",
        "#Descriptions - Use of all commands\n",
        "\n",
        "#List -Python knows a number of compound data types, used to group together other values. The most versatile is the list, which can be written as a list of comma-separated values (items) between square brackets. Lists might contain items of different types, but usually the items all have the same type.\n",
        "\n",
        "#Create a Empty List\n",
        "\n",
        "#There are several ways to create a new list; the simplest is to enclose the elements in square brackets (“[” and ”]”). You can create one with empty brackets, [ ] or using list() function.\n",
        "\n",
        "# Empty list\n",
        "#  Lists are mutable, ordered, and allows duplicate elementsmylist = []\n",
        "my_list = list()\n",
        "print(type(mylist))\n",
        "print(mylist)\n",
        "print(my_list)"
      ]
    },
    {
      "cell_type": "code",
      "source": [
        "##A list is a sequence\n",
        "##List also allows the duplicate elements.\n",
        "##List can contain elements of different datatypes i.e can have integar, floating values, strings and boolean.\n",
        "# making new list with manual entry\n",
        "mylist = [\"banana\", \"mango\",\"cheery\", \"apple\", \"blueberry\"]\n",
        "\n",
        "# allow various datatypes  \n",
        "\n",
        "mylist2 = [5, \"Jim\", False, 5.050]\n",
        "\n",
        "# allows duplicate elements\n",
        "\n",
        "mylist3 = [5, \"jim\", False, 5.05, 5, \"jim\", False, 5.05]\n",
        "print(mylist)\n",
        "print(mylist2)\n",
        "print(mylist3)\n",
        "\n"
      ],
      "metadata": {
        "colab": {
          "base_uri": "https://localhost:8080/"
        },
        "id": "fUtpzKvaFk0b",
        "outputId": "cedf4a33-4180-4bc4-8218-9c3b63149f28"
      },
      "execution_count": 4,
      "outputs": [
        {
          "output_type": "stream",
          "name": "stdout",
          "text": [
            "['banana', 'mango', 'cheery', 'apple', 'blueberry']\n",
            "[5, 'Jim', False, 5.05]\n",
            "[5, 'jim', False, 5.05, 5, 'jim', False, 5.05]\n"
          ]
        }
      ]
    },
    {
      "cell_type": "code",
      "source": [
        "##Lists are Mutable\n",
        "##The syntax for accessing the elements of a list is the same as for accessing the characters of a string: the bracket operator. The expression inside the brackets specifies the index. Remember that the indices start at 0\n",
        "\n",
        "# Indexing of list\n",
        "\n",
        "print(mylist3)\n",
        "\n",
        "print(mylist3[0])\n",
        "print(mylist3[2])\n",
        "print(mylist3[1])\n",
        "print(mylist3[3])\n",
        "print(mylist3[4])\n",
        "print(mylist3[5])\n",
        "print(mylist3[6])\n",
        "print(mylist3[7],\"\\n\")"
      ],
      "metadata": {
        "colab": {
          "base_uri": "https://localhost:8080/"
        },
        "id": "C9i_A25NGET1",
        "outputId": "fee595d5-1d71-4226-a649-7567e39a6402"
      },
      "execution_count": 5,
      "outputs": [
        {
          "output_type": "stream",
          "name": "stdout",
          "text": [
            "[5, 'jim', False, 5.05, 5, 'jim', False, 5.05]\n",
            "5\n",
            "False\n",
            "jim\n",
            "5.05\n",
            "5\n",
            "jim\n",
            "False\n",
            "5.05 \n",
            "\n"
          ]
        }
      ]
    },
    {
      "cell_type": "code",
      "source": [
        "#  reverse indexing of list\n",
        "\n",
        "print(mylist3[-1])\n",
        "print(mylist3[-2])\n",
        "print(mylist3[-3])\n",
        "print(mylist3[-4])\n",
        "print(mylist3[-5])\n",
        "print(mylist3[-6])\n",
        "print(mylist3[-7])\n",
        "print(mylist3[-8])"
      ],
      "metadata": {
        "colab": {
          "base_uri": "https://localhost:8080/"
        },
        "id": "NxS_K18ZHm1s",
        "outputId": "ee8d9f95-7b36-4ac6-ac60-85d7bdccf025"
      },
      "execution_count": 6,
      "outputs": [
        {
          "output_type": "stream",
          "name": "stdout",
          "text": [
            "5.05\n",
            "False\n",
            "jim\n",
            "5\n",
            "5.05\n",
            "False\n",
            "jim\n",
            "5\n"
          ]
        }
      ]
    },
    {
      "cell_type": "code",
      "source": [
        "# Clear command \n",
        "\n",
        "mylist3 = [5, \"jim\", False, 5.05, 5, \"jim\", False, 5.05]\n",
        "\n",
        "item = mylist3.clear()\n",
        "print(item)\n",
        "print(mylist3)"
      ],
      "metadata": {
        "colab": {
          "base_uri": "https://localhost:8080/"
        },
        "id": "3Xy9m9AGHr-4",
        "outputId": "398586ca-6045-40c9-8d22-7fd2c656469a"
      },
      "execution_count": 7,
      "outputs": [
        {
          "output_type": "stream",
          "name": "stdout",
          "text": [
            "None\n",
            "[]\n"
          ]
        }
      ]
    },
    {
      "cell_type": "code",
      "source": [
        "##Use of Various Commands\n",
        "#Copy\n",
        "#Count\n",
        "#Length\n",
        "#Append\n",
        "#Insert\n",
        "#Pop\n",
        "#Reserve\n",
        "\n",
        "mylist3 = [5, \"jim\", False, 5.05, 5, \"jim\", False, 5.05]\n"
      ],
      "metadata": {
        "id": "0I5dkubFH0N6"
      },
      "execution_count": 8,
      "outputs": []
    },
    {
      "cell_type": "code",
      "source": [
        "# Copy command\n",
        "my_list = mylist3                     # If we use this and change made to the copy, then the actual/parent list also get updated.\n",
        "new_list1 = list(mylist3)             # Rather use this three commands. \n",
        "new_list1 = mylist3[:]                        \n",
        "my_list1 = mylist3.copy()            \n",
        "print(mylist3)\n",
        "\n",
        "\n",
        "#  Count Command\n",
        "mylist3.count(\"jim\")                  # Counts the elements inside the list\n",
        "mylist3.count(5)\n",
        "\n",
        "\n",
        "# length commands\n",
        "print(len(mylist3))                   # Give the total length or total elements in the list\n",
        "\n",
        "\n",
        "# Append Command\n",
        "mylist3.append(\"Lemon\")               # Add the new element inside the list into the last position(can add one at a time)\n",
        "print(mylist3)\n",
        "\n",
        "# Insert command\n",
        "mylist3.insert(1, \"banana\")           # Add the element inside the list on the specific psoition, use the index to add\n",
        "print(mylist3)\n",
        "\n",
        "\n",
        "# Pop command                         # Delete the last element present in the list\n",
        "mylist3.pop()\n",
        "print(mylist3)\n",
        "\n",
        "\n",
        "# Reverse command                     # Reverse the list \n",
        "mylist3.reverse()\n",
        "print(mylist3)\n",
        "\n",
        "# Extend command\n",
        "mylist3.extend([4, 5, 6, \"tim\"])      # Extend can add multiple elements \n",
        "print(mylist3)\n",
        "\n",
        "##Concating the List\n",
        "\n",
        "##Concat means to add the two list\n",
        "\n",
        "# Concat and Multiply the list\n",
        "mylist = [0]*5\n",
        "mylist1 = [1,2,3,4,5]\n",
        "\n",
        "new_list = mylist + mylist1\n",
        "print(new_list)\n",
        "[0, 0, 0, 0, 0, 1, 2, 3, 4, 5]\n",
        "##Slicing of List\n",
        "\n",
        "# Slicing\n",
        "\n",
        "print(new_list)\n",
        "\n",
        "print(new_list[:])\n",
        "print(new_list[-8:-1])\n",
        "print(new_list[0::2])\n",
        "\n",
        "##Sorting the list\n",
        "\n",
        "#  Sort Command\n",
        "new_list2 = [0,5,6,8,1,5,-5,-6]\n",
        "new_list2.sort()\n",
        "print(new_list2)\n",
        "\n",
        "##List Comprehension\n",
        "##List comprehension in Python is also surrounded by brackets, but instead of the list of data inside it, you enter an expression followed by for loop and if-else clauses.\n",
        "\n",
        "##A most basic form of List comprehensions in Python are constructed as follows: list_variable = [expression for item in collection] The first expression generates elements in the list followed by a for loop over some collection of data which would evaluate the expression for every item in the collection.\n",
        "\n",
        "# List comprehension\n",
        "\n",
        "lst = [0,1,2,3,4,5,6,7,8,9]\n",
        "lst1 = [x*x for x in lst]\n",
        "lst2 = [i*i for i in lst if i%2==0]\n",
        "\n",
        "print(lst)\n",
        "print(lst1)\n",
        "print(lst2)\n",
        "\n",
        "##Dir() Functions\n",
        "##dir() is a powerful inbuilt function in Python3, which returns list of the attributes and methods of any object (say functions , modules, strings, lists, dictionaries etc.)\n",
        "\n",
        "dir(mylist)\n"
      ],
      "metadata": {
        "colab": {
          "base_uri": "https://localhost:8080/"
        },
        "id": "Tz7xgdRZH9qw",
        "outputId": "ef5d7f00-4b88-4c16-edec-16d02e09558d"
      },
      "execution_count": 9,
      "outputs": [
        {
          "output_type": "stream",
          "name": "stdout",
          "text": [
            "[5, 'jim', False, 5.05, 5, 'jim', False, 5.05]\n",
            "8\n",
            "[5, 'jim', False, 5.05, 5, 'jim', False, 5.05, 'Lemon']\n",
            "[5, 'banana', 'jim', False, 5.05, 5, 'jim', False, 5.05, 'Lemon']\n",
            "[5, 'banana', 'jim', False, 5.05, 5, 'jim', False, 5.05]\n",
            "[5.05, False, 'jim', 5, 5.05, False, 'jim', 'banana', 5]\n",
            "[5.05, False, 'jim', 5, 5.05, False, 'jim', 'banana', 5, 4, 5, 6, 'tim']\n",
            "[0, 0, 0, 0, 0, 1, 2, 3, 4, 5]\n",
            "[0, 0, 0, 0, 0, 1, 2, 3, 4, 5]\n",
            "[0, 0, 0, 0, 0, 1, 2, 3, 4, 5]\n",
            "[0, 0, 0, 1, 2, 3, 4]\n",
            "[0, 0, 0, 2, 4]\n",
            "[-6, -5, 0, 1, 5, 5, 6, 8]\n",
            "[0, 1, 2, 3, 4, 5, 6, 7, 8, 9]\n",
            "[0, 1, 4, 9, 16, 25, 36, 49, 64, 81]\n",
            "[0, 4, 16, 36, 64]\n"
          ]
        },
        {
          "output_type": "execute_result",
          "data": {
            "text/plain": [
              "['__add__',\n",
              " '__class__',\n",
              " '__contains__',\n",
              " '__delattr__',\n",
              " '__delitem__',\n",
              " '__dir__',\n",
              " '__doc__',\n",
              " '__eq__',\n",
              " '__format__',\n",
              " '__ge__',\n",
              " '__getattribute__',\n",
              " '__getitem__',\n",
              " '__gt__',\n",
              " '__hash__',\n",
              " '__iadd__',\n",
              " '__imul__',\n",
              " '__init__',\n",
              " '__init_subclass__',\n",
              " '__iter__',\n",
              " '__le__',\n",
              " '__len__',\n",
              " '__lt__',\n",
              " '__mul__',\n",
              " '__ne__',\n",
              " '__new__',\n",
              " '__reduce__',\n",
              " '__reduce_ex__',\n",
              " '__repr__',\n",
              " '__reversed__',\n",
              " '__rmul__',\n",
              " '__setattr__',\n",
              " '__setitem__',\n",
              " '__sizeof__',\n",
              " '__str__',\n",
              " '__subclasshook__',\n",
              " 'append',\n",
              " 'clear',\n",
              " 'copy',\n",
              " 'count',\n",
              " 'extend',\n",
              " 'index',\n",
              " 'insert',\n",
              " 'pop',\n",
              " 'remove',\n",
              " 'reverse',\n",
              " 'sort']"
            ]
          },
          "metadata": {},
          "execution_count": 9
        }
      ]
    },
    {
      "cell_type": "code",
      "source": [
        ""
      ],
      "metadata": {
        "id": "b5SYwwZcIZRt"
      },
      "execution_count": null,
      "outputs": []
    }
  ]
}