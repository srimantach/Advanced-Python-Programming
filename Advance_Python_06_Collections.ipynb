{
  "nbformat": 4,
  "nbformat_minor": 0,
  "metadata": {
    "colab": {
      "name": "Advance_Python_06_Collections.ipynb",
      "provenance": [],
      "collapsed_sections": [],
      "authorship_tag": "ABX9TyPnMN6zg4AklvscT6KgVxUM",
      "include_colab_link": true
    },
    "kernelspec": {
      "name": "python3",
      "display_name": "Python 3"
    },
    "language_info": {
      "name": "python"
    }
  },
  "cells": [
    {
      "cell_type": "markdown",
      "metadata": {
        "id": "view-in-github",
        "colab_type": "text"
      },
      "source": [
        "<a href=\"https://colab.research.google.com/github/srimantach/Advanced-Python-Programming/blob/main/Advance_Python_06_Collections.ipynb\" target=\"_parent\"><img src=\"https://colab.research.google.com/assets/colab-badge.svg\" alt=\"Open In Colab\"/></a>"
      ]
    },
    {
      "cell_type": "code",
      "source": [
        "##Chapter - Advance Python\n",
        "##Name - Collections\n",
        "\n",
        "##Description - Use of commands\n",
        "\n",
        "##Collections - The collection Module in Python provides different types of containers. A Container is an object that is used to store different objects and provide a way to access the contained objects and iterate over them. Some of the built-in containers are Tuple, List, Dictionary. Here we will use Counters, OrderedDict, DefaultDict, NamedTuple, DeQue.\n",
        "\n",
        "#We need to import the containers from the collection library by using\n",
        "\n",
        "#Syntax: from collections import \"collection name\"\n",
        "\n",
        "##Counters\n",
        "##A counter is a sub-class of the dictionary.\n",
        "## It is used to keep the count of the elements in an iterable in the form of an unordered dictionary where the key represents the element in the iterable and value represents the count of that element in the iterable.\n",
        "from collections import Counter\n",
        "\n",
        "a = \"aaaaabbbccccdddee\"\n",
        "# Counter will give the dictonaries in the form of key/value pairs\n",
        "mycounter = Counter(a)\n",
        "print(mycounter)"
      ],
      "metadata": {
        "id": "BIlLfOjaHDam",
        "colab": {
          "base_uri": "https://localhost:8080/"
        },
        "outputId": "7e9bd68b-44a4-4719-956a-d30da6da59df"
      },
      "execution_count": null,
      "outputs": [
        {
          "output_type": "stream",
          "name": "stdout",
          "text": [
            "Counter({'a': 5, 'c': 4, 'b': 3, 'd': 3, 'e': 2})\n"
          ]
        }
      ]
    },
    {
      "cell_type": "code",
      "source": [
        "## Accessing the items, keys and values from counter\n",
        "# Use of items, keys and value command\n",
        "print(mycounter)\n",
        "\n",
        "# Items\n",
        "print(mycounter.items(), \"\\n\")\n",
        "\n",
        "# Keys\n",
        "print(mycounter.keys(), \"\\n\")\n",
        "\n",
        "# Values\n",
        "print(mycounter.values())"
      ],
      "metadata": {
        "colab": {
          "base_uri": "https://localhost:8080/"
        },
        "id": "TolaVq699Jgw",
        "outputId": "864a4aa3-311c-46e8-c2a7-89a4d71ddce3"
      },
      "execution_count": null,
      "outputs": [
        {
          "output_type": "stream",
          "name": "stdout",
          "text": [
            "Counter({'a': 5, 'c': 4, 'b': 3, 'd': 3, 'e': 2})\n",
            "dict_items([('a', 5), ('b', 3), ('c', 4), ('d', 3), ('e', 2)]) \n",
            "\n",
            "dict_keys(['a', 'b', 'c', 'd', 'e']) \n",
            "\n",
            "dict_values([5, 3, 4, 3, 2])\n"
          ]
        }
      ]
    },
    {
      "cell_type": "code",
      "source": [
        "## Use of most common command\n",
        "# Use of most_common Command \n",
        "print(mycounter, \"\\n\")\n",
        "\n",
        "print(mycounter.most_common())              # This will show all the items\n",
        "print(mycounter.most_common(1))             # This will show one common items\n",
        "print(mycounter.most_common(2))             # This will show two common items\n",
        "print(mycounter.most_common(3), \"\\n\")             # This will show three common items  \n",
        "\n",
        "# \"\"\"This will give us the lists of tuples,if we want to access to the each element we can do so\"\"\"\n",
        "\n",
        "print(mycounter.most_common(1)[0][0])\n",
        "print(mycounter.most_common(3)[1][0])\n",
        "print(mycounter.most_common(5)[3][1])"
      ],
      "metadata": {
        "colab": {
          "base_uri": "https://localhost:8080/"
        },
        "id": "HxDu4rda-DIl",
        "outputId": "3f7904cb-27d5-4c72-c2cd-7b7f1ee6d1db"
      },
      "execution_count": null,
      "outputs": [
        {
          "output_type": "stream",
          "name": "stdout",
          "text": [
            "Counter({'a': 5, 'c': 4, 'b': 3, 'd': 3, 'e': 2}) \n",
            "\n",
            "[('a', 5), ('c', 4), ('b', 3), ('d', 3), ('e', 2)]\n",
            "[('a', 5)]\n",
            "[('a', 5), ('c', 4)]\n",
            "[('a', 5), ('c', 4), ('b', 3)] \n",
            "\n",
            "a\n",
            "c\n",
            "3\n"
          ]
        }
      ]
    },
    {
      "cell_type": "code",
      "source": [
        "## Counter into List\n",
        "# Counter into list\n",
        "print(mycounter, \"\\n\")\n",
        "\n",
        "print(mycounter.elements(), \"\\n\")              # This will give the iterator stored in the memory location. In order to print the list, we can change it to list.\n",
        "print(list(mycounter.elements()))"
      ],
      "metadata": {
        "colab": {
          "base_uri": "https://localhost:8080/"
        },
        "id": "HTO-LcxT-LGK",
        "outputId": "14be911f-3849-4d71-bdcd-c14262629993"
      },
      "execution_count": null,
      "outputs": [
        {
          "output_type": "stream",
          "name": "stdout",
          "text": [
            "Counter({'a': 5, 'c': 4, 'b': 3, 'd': 3, 'e': 2}) \n",
            "\n",
            "<itertools.chain object at 0x7f3fd7187810> \n",
            "\n",
            "['a', 'a', 'a', 'a', 'a', 'b', 'b', 'b', 'c', 'c', 'c', 'c', 'd', 'd', 'd', 'e', 'e']\n"
          ]
        }
      ]
    },
    {
      "cell_type": "code",
      "source": [
        "dir(mycounter)"
      ],
      "metadata": {
        "colab": {
          "base_uri": "https://localhost:8080/"
        },
        "id": "21vFVfF9-SKC",
        "outputId": "1d0b0136-3b30-4e31-f196-6365c81d8da8"
      },
      "execution_count": null,
      "outputs": [
        {
          "output_type": "execute_result",
          "data": {
            "text/plain": [
              "['__add__',\n",
              " '__and__',\n",
              " '__class__',\n",
              " '__contains__',\n",
              " '__delattr__',\n",
              " '__delitem__',\n",
              " '__dict__',\n",
              " '__dir__',\n",
              " '__doc__',\n",
              " '__eq__',\n",
              " '__format__',\n",
              " '__ge__',\n",
              " '__getattribute__',\n",
              " '__getitem__',\n",
              " '__gt__',\n",
              " '__hash__',\n",
              " '__iadd__',\n",
              " '__iand__',\n",
              " '__init__',\n",
              " '__init_subclass__',\n",
              " '__ior__',\n",
              " '__isub__',\n",
              " '__iter__',\n",
              " '__le__',\n",
              " '__len__',\n",
              " '__lt__',\n",
              " '__missing__',\n",
              " '__module__',\n",
              " '__ne__',\n",
              " '__neg__',\n",
              " '__new__',\n",
              " '__or__',\n",
              " '__pos__',\n",
              " '__reduce__',\n",
              " '__reduce_ex__',\n",
              " '__repr__',\n",
              " '__setattr__',\n",
              " '__setitem__',\n",
              " '__sizeof__',\n",
              " '__str__',\n",
              " '__sub__',\n",
              " '__subclasshook__',\n",
              " '__weakref__',\n",
              " '_keep_positive',\n",
              " 'clear',\n",
              " 'copy',\n",
              " 'elements',\n",
              " 'fromkeys',\n",
              " 'get',\n",
              " 'items',\n",
              " 'keys',\n",
              " 'most_common',\n",
              " 'pop',\n",
              " 'popitem',\n",
              " 'setdefault',\n",
              " 'subtract',\n",
              " 'update',\n",
              " 'values']"
            ]
          },
          "metadata": {},
          "execution_count": 5
        }
      ]
    },
    {
      "cell_type": "code",
      "source": [
        "## NamedTuple\n",
        "# A NamedTuple returns a tuple object with names for each position which the ordinary tuples lack. \n",
        "#For example, consider a tuple names student where the first element represents fname, second represents lname and the third element represents the DOB. \n",
        "#Suppose for calling fname instead of remembering the index position you can actually call the element by using the fname argument, then it will be really easy for accessing tuples element. \n",
        "#This functionality is provided by the NamedTuple.\n",
        "from collections import namedtuple\n",
        "Point = namedtuple(\"Point\" , \"x,y\")\n",
        "pt = Point(1 , -6)\n",
        "print(pt)\n"
      ],
      "metadata": {
        "colab": {
          "base_uri": "https://localhost:8080/"
        },
        "id": "Q83vJ5xo-WnH",
        "outputId": "bd8b64e8-9ff0-4668-df99-3a691407dcd9"
      },
      "execution_count": null,
      "outputs": [
        {
          "output_type": "stream",
          "name": "stdout",
          "text": [
            "Point(x=1, y=-6)\n"
          ]
        }
      ]
    },
    {
      "cell_type": "code",
      "source": [
        "print(pt.x)\n",
        "print(pt.y)"
      ],
      "metadata": {
        "colab": {
          "base_uri": "https://localhost:8080/"
        },
        "id": "qmQ5MNmY-rus",
        "outputId": "3b79b3f0-6be3-40ae-8a47-4e9664d42e97"
      },
      "execution_count": null,
      "outputs": [
        {
          "output_type": "stream",
          "name": "stdout",
          "text": [
            "1\n",
            "-6\n"
          ]
        }
      ]
    },
    {
      "cell_type": "code",
      "source": [
        "dir(pt)"
      ],
      "metadata": {
        "colab": {
          "base_uri": "https://localhost:8080/"
        },
        "id": "NroZyeor-urL",
        "outputId": "0729eca8-f2db-44e5-c6a5-c5e0d0825876"
      },
      "execution_count": null,
      "outputs": [
        {
          "output_type": "execute_result",
          "data": {
            "text/plain": [
              "['__add__',\n",
              " '__class__',\n",
              " '__contains__',\n",
              " '__delattr__',\n",
              " '__dir__',\n",
              " '__doc__',\n",
              " '__eq__',\n",
              " '__format__',\n",
              " '__ge__',\n",
              " '__getattribute__',\n",
              " '__getitem__',\n",
              " '__getnewargs__',\n",
              " '__gt__',\n",
              " '__hash__',\n",
              " '__init__',\n",
              " '__init_subclass__',\n",
              " '__iter__',\n",
              " '__le__',\n",
              " '__len__',\n",
              " '__lt__',\n",
              " '__module__',\n",
              " '__mul__',\n",
              " '__ne__',\n",
              " '__new__',\n",
              " '__reduce__',\n",
              " '__reduce_ex__',\n",
              " '__repr__',\n",
              " '__rmul__',\n",
              " '__setattr__',\n",
              " '__sizeof__',\n",
              " '__slots__',\n",
              " '__str__',\n",
              " '__subclasshook__',\n",
              " '_asdict',\n",
              " '_field_defaults',\n",
              " '_fields',\n",
              " '_fields_defaults',\n",
              " '_make',\n",
              " '_replace',\n",
              " 'count',\n",
              " 'index',\n",
              " 'x',\n",
              " 'y']"
            ]
          },
          "metadata": {},
          "execution_count": 8
        }
      ]
    },
    {
      "cell_type": "code",
      "source": [
        "## OrderedDict\n",
        "# An OrderedDict is also a sub-class of dictionary but unlike dictionary, it remembers the order in which the keys were inserted.\n",
        "from collections import OrderedDict\n",
        "ordered_dict = OrderedDict()\n",
        "ordered_dict[\"a\"] = 1\n",
        "ordered_dict[\"b\"] = 2\n",
        "ordered_dict[\"c\"] = 3\n",
        "ordered_dict[\"d\"] = 158\n",
        "ordered_dict[\"e\"] = 169\n",
        "ordered_dict[\"f\"] = 58\n",
        "ordered_dict[\"g\"] = 98\n",
        "\n",
        "# It remember the order we add the element.\n",
        "print(ordered_dict)"
      ],
      "metadata": {
        "colab": {
          "base_uri": "https://localhost:8080/"
        },
        "id": "QbShth0p-xnZ",
        "outputId": "7e258108-a6dd-4821-b0d5-e9250a51a18d"
      },
      "execution_count": null,
      "outputs": [
        {
          "output_type": "stream",
          "name": "stdout",
          "text": [
            "OrderedDict([('a', 1), ('b', 2), ('c', 3), ('d', 158), ('e', 169), ('f', 58), ('g', 98)])\n"
          ]
        }
      ]
    },
    {
      "cell_type": "code",
      "source": [
        "dir(ordered_dict)"
      ],
      "metadata": {
        "colab": {
          "base_uri": "https://localhost:8080/"
        },
        "id": "ajITtCFc-7kk",
        "outputId": "8efc38a8-9cfc-4423-e869-22594f5d9f7f"
      },
      "execution_count": null,
      "outputs": [
        {
          "output_type": "execute_result",
          "data": {
            "text/plain": [
              "['__class__',\n",
              " '__contains__',\n",
              " '__delattr__',\n",
              " '__delitem__',\n",
              " '__dict__',\n",
              " '__dir__',\n",
              " '__doc__',\n",
              " '__eq__',\n",
              " '__format__',\n",
              " '__ge__',\n",
              " '__getattribute__',\n",
              " '__getitem__',\n",
              " '__gt__',\n",
              " '__hash__',\n",
              " '__init__',\n",
              " '__init_subclass__',\n",
              " '__iter__',\n",
              " '__le__',\n",
              " '__len__',\n",
              " '__lt__',\n",
              " '__ne__',\n",
              " '__new__',\n",
              " '__reduce__',\n",
              " '__reduce_ex__',\n",
              " '__repr__',\n",
              " '__reversed__',\n",
              " '__setattr__',\n",
              " '__setitem__',\n",
              " '__sizeof__',\n",
              " '__str__',\n",
              " '__subclasshook__',\n",
              " 'clear',\n",
              " 'copy',\n",
              " 'fromkeys',\n",
              " 'get',\n",
              " 'items',\n",
              " 'keys',\n",
              " 'move_to_end',\n",
              " 'pop',\n",
              " 'popitem',\n",
              " 'setdefault',\n",
              " 'update',\n",
              " 'values']"
            ]
          },
          "metadata": {},
          "execution_count": 10
        }
      ]
    },
    {
      "cell_type": "code",
      "source": [
        "## DefaultDict\n",
        "# A DefaultDict is also a sub-class to dictionary. \n",
        "# It is used to provide some default values for the key that does not exist and never raises a KeyError.\n",
        "from collections import defaultdict\n",
        "\n",
        "# Here, initially we need to give the type(int, float, list) as a default. So in ordered we access the element out of dict, then it will not throw us an error\n",
        "d = defaultdict(int)\n",
        "d[\"a\"] = 1\n",
        "d[\"b\"] = 2\n",
        "d[\"c\"] = 3\n",
        "print(d, \"\\n\")\n",
        "\n",
        "print(d[\"a\"])\n",
        "print(d[\"b\"])\n",
        "print(d[\"e\"], \"\\n\")\n",
        "\n",
        "# With float as a default\n",
        "d = defaultdict(float)\n",
        "d[\"a\"] = 1\n",
        "d[\"b\"] = 2\n",
        "d[\"c\"] = 3\n",
        "print(d, \"\\n\")\n",
        "\n",
        "print(d[\"a\"])\n",
        "print(d[\"b\"])\n",
        "print(d[\"e\"], \"\\n\")\n",
        "\n",
        "\n",
        "# With bool as a default\n",
        "d = defaultdict(bool)\n",
        "d[\"a\"] = 1\n",
        "d[\"b\"] = 2\n",
        "d[\"c\"] = 3\n",
        "print(d, \"\\n\")\n",
        "\n",
        "print(d[\"a\"])\n",
        "print(d[\"b\"])\n",
        "print(d[\"e\"], \"\\n\")\n",
        "\n",
        "# With list as a default\n",
        "d = defaultdict(list)\n",
        "d[\"a\"] = 1\n",
        "d[\"b\"] = 2\n",
        "d[\"c\"] = 3\n",
        "print(d, \"\\n\")\n",
        "\n",
        "print(d[\"a\"])\n",
        "print(d[\"b\"])\n",
        "print(d[\"e\"], \"\\n\")"
      ],
      "metadata": {
        "colab": {
          "base_uri": "https://localhost:8080/"
        },
        "id": "4RJhdcLW_BdU",
        "outputId": "8672ff7f-1a13-4b63-fbfc-b2255e04b425"
      },
      "execution_count": null,
      "outputs": [
        {
          "output_type": "stream",
          "name": "stdout",
          "text": [
            "defaultdict(<class 'int'>, {'a': 1, 'b': 2, 'c': 3}) \n",
            "\n",
            "1\n",
            "2\n",
            "0 \n",
            "\n",
            "defaultdict(<class 'float'>, {'a': 1, 'b': 2, 'c': 3}) \n",
            "\n",
            "1\n",
            "2\n",
            "0.0 \n",
            "\n",
            "defaultdict(<class 'bool'>, {'a': 1, 'b': 2, 'c': 3}) \n",
            "\n",
            "1\n",
            "2\n",
            "False \n",
            "\n",
            "defaultdict(<class 'list'>, {'a': 1, 'b': 2, 'c': 3}) \n",
            "\n",
            "1\n",
            "2\n",
            "[] \n",
            "\n"
          ]
        }
      ]
    },
    {
      "cell_type": "code",
      "source": [
        "dir(d)"
      ],
      "metadata": {
        "colab": {
          "base_uri": "https://localhost:8080/"
        },
        "id": "w3dkS6Tq_PrZ",
        "outputId": "4dc10217-3ceb-46c0-c8ca-baa101ce7760"
      },
      "execution_count": null,
      "outputs": [
        {
          "output_type": "execute_result",
          "data": {
            "text/plain": [
              "['__class__',\n",
              " '__contains__',\n",
              " '__copy__',\n",
              " '__delattr__',\n",
              " '__delitem__',\n",
              " '__dir__',\n",
              " '__doc__',\n",
              " '__eq__',\n",
              " '__format__',\n",
              " '__ge__',\n",
              " '__getattribute__',\n",
              " '__getitem__',\n",
              " '__gt__',\n",
              " '__hash__',\n",
              " '__init__',\n",
              " '__init_subclass__',\n",
              " '__iter__',\n",
              " '__le__',\n",
              " '__len__',\n",
              " '__lt__',\n",
              " '__missing__',\n",
              " '__ne__',\n",
              " '__new__',\n",
              " '__reduce__',\n",
              " '__reduce_ex__',\n",
              " '__repr__',\n",
              " '__setattr__',\n",
              " '__setitem__',\n",
              " '__sizeof__',\n",
              " '__str__',\n",
              " '__subclasshook__',\n",
              " 'clear',\n",
              " 'copy',\n",
              " 'default_factory',\n",
              " 'fromkeys',\n",
              " 'get',\n",
              " 'items',\n",
              " 'keys',\n",
              " 'pop',\n",
              " 'popitem',\n",
              " 'setdefault',\n",
              " 'update',\n",
              " 'values']"
            ]
          },
          "metadata": {},
          "execution_count": 12
        }
      ]
    },
    {
      "cell_type": "code",
      "source": [
        "## Deque\n",
        "## Deque (Doubly Ended Queue) is the optimized list for quicker append and pop operations from both sides of the container.\n",
        "## It provides O(1) time complexity for append and pop operations as compared to list with O(n) time complexity.\n",
        "from collections import deque\n",
        "\n",
        "d = deque()\n",
        "# Append\n",
        "d.append(1)\n",
        "d.append(2)\n",
        "print(d, \"\\n\")\n",
        "\n",
        "# Appending to the left side\n",
        "d.appendleft(3)\n",
        "print(d, \"\\n\")\n",
        "\n",
        "# Popping\n",
        "d.pop()\n",
        "print(d, \"\\n\")\n",
        "\n",
        "# Popping to the left side\n",
        "d.popleft()\n",
        "print(d, \"\\n\")\n",
        "\n",
        "# Extend\n",
        "d.extend([4,5,6])\n",
        "print(d, \"\\n\")\n",
        "\n",
        "# Extend to the left\n",
        "d.extendleft([3,2,1])\n",
        "print(d, \"\\n\")\n",
        "\n",
        "# Rotate \n",
        "d.rotate(1)\n",
        "print(d)\n",
        "d.rotate(2)\n",
        "print(d)\n",
        "\n",
        "# Rotate to the left\n",
        "d.rotate(-1)\n",
        "print(d)\n",
        "d.rotate(-2)\n",
        "print(d)"
      ],
      "metadata": {
        "colab": {
          "base_uri": "https://localhost:8080/"
        },
        "id": "HM48yzPK_TyQ",
        "outputId": "22cbb67d-48d3-4f17-f3f8-4daa71f4d876"
      },
      "execution_count": null,
      "outputs": [
        {
          "output_type": "stream",
          "name": "stdout",
          "text": [
            "deque([1, 2]) \n",
            "\n",
            "deque([3, 1, 2]) \n",
            "\n",
            "deque([3, 1]) \n",
            "\n",
            "deque([1]) \n",
            "\n",
            "deque([1, 4, 5, 6]) \n",
            "\n",
            "deque([1, 2, 3, 1, 4, 5, 6]) \n",
            "\n",
            "deque([6, 1, 2, 3, 1, 4, 5])\n",
            "deque([4, 5, 6, 1, 2, 3, 1])\n",
            "deque([5, 6, 1, 2, 3, 1, 4])\n",
            "deque([1, 2, 3, 1, 4, 5, 6])\n"
          ]
        }
      ]
    },
    {
      "cell_type": "code",
      "source": [
        "dir(d)"
      ],
      "metadata": {
        "colab": {
          "base_uri": "https://localhost:8080/"
        },
        "id": "jurZdMYg_iCn",
        "outputId": "69cdd201-f3f8-41c7-e4e1-70bcdcfae47b"
      },
      "execution_count": null,
      "outputs": [
        {
          "output_type": "execute_result",
          "data": {
            "text/plain": [
              "['__add__',\n",
              " '__bool__',\n",
              " '__class__',\n",
              " '__contains__',\n",
              " '__copy__',\n",
              " '__delattr__',\n",
              " '__delitem__',\n",
              " '__dir__',\n",
              " '__doc__',\n",
              " '__eq__',\n",
              " '__format__',\n",
              " '__ge__',\n",
              " '__getattribute__',\n",
              " '__getitem__',\n",
              " '__gt__',\n",
              " '__hash__',\n",
              " '__iadd__',\n",
              " '__imul__',\n",
              " '__init__',\n",
              " '__init_subclass__',\n",
              " '__iter__',\n",
              " '__le__',\n",
              " '__len__',\n",
              " '__lt__',\n",
              " '__mul__',\n",
              " '__ne__',\n",
              " '__new__',\n",
              " '__reduce__',\n",
              " '__reduce_ex__',\n",
              " '__repr__',\n",
              " '__reversed__',\n",
              " '__rmul__',\n",
              " '__setattr__',\n",
              " '__setitem__',\n",
              " '__sizeof__',\n",
              " '__str__',\n",
              " '__subclasshook__',\n",
              " 'append',\n",
              " 'appendleft',\n",
              " 'clear',\n",
              " 'copy',\n",
              " 'count',\n",
              " 'extend',\n",
              " 'extendleft',\n",
              " 'index',\n",
              " 'insert',\n",
              " 'maxlen',\n",
              " 'pop',\n",
              " 'popleft',\n",
              " 'remove',\n",
              " 'reverse',\n",
              " 'rotate']"
            ]
          },
          "metadata": {},
          "execution_count": 14
        }
      ]
    },
    {
      "cell_type": "code",
      "source": [
        ""
      ],
      "metadata": {
        "id": "kfCURXVi_mgF"
      },
      "execution_count": null,
      "outputs": []
    }
  ]
}